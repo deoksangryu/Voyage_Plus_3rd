{
 "cells": [
  {
   "cell_type": "code",
   "execution_count": 1,
   "id": "3009da07-9304-432d-876d-3497cc171873",
   "metadata": {},
   "outputs": [],
   "source": [
    "import torch\n",
    "import torchvision\n",
    "import torchvision.transforms as transforms"
   ]
  },
  {
   "cell_type": "code",
   "execution_count": 2,
   "id": "03448fc6-8223-44f4-913a-4c351185786f",
   "metadata": {},
   "outputs": [],
   "source": [
    "transform = transforms.ToTensor()"
   ]
  },
  {
   "cell_type": "code",
   "execution_count": 3,
   "id": "1f6d72e5-e310-4ca4-816c-d991e6701769",
   "metadata": {},
   "outputs": [],
   "source": [
    "train_sets = torchvision.datasets.MNIST(\n",
    "    root='./MNIST_DATA',\n",
    "    train=True,\n",
    "    transform=transform,\n",
    "    download=True\n",
    ")\n",
    "\n",
    "test_sets = torchvision.datasets.MNIST(\n",
    "    root='./MNIST_DATA',\n",
    "    train=False,\n",
    "    transform=transform,\n",
    "    download=True\n",
    ")"
   ]
  },
  {
   "cell_type": "code",
   "execution_count": 4,
   "id": "e0480265-a11e-4a59-88bd-df11f527d390",
   "metadata": {},
   "outputs": [],
   "source": [
    "batch_size = 256"
   ]
  },
  {
   "cell_type": "code",
   "execution_count": 5,
   "id": "f3db4afc-93a4-49c7-8414-ee3aa6cb1a26",
   "metadata": {},
   "outputs": [
    {
     "name": "stdout",
     "output_type": "stream",
     "text": [
      "True\n"
     ]
    }
   ],
   "source": [
    "print(torch.backends.mps.is_available())"
   ]
  },
  {
   "cell_type": "code",
   "execution_count": 6,
   "id": "56a5aba2-b4c4-45af-9c69-c31a6cd9d6c7",
   "metadata": {},
   "outputs": [],
   "source": [
    "train_loader = torch.utils.data.DataLoader(\n",
    "    dataset=train_sets,\n",
    "    batch_size=batch_size,\n",
    "    shuffle=True,\n",
    "    num_workers=4\n",
    ")\n",
    "\n",
    "test_loader = torch.utils.data.DataLoader(\n",
    "    dataset=test_sets,\n",
    "    batch_size=batch_size,\n",
    "    shuffle=False,\n",
    "    num_workers=4\n",
    ")   "
   ]
  },
  {
   "cell_type": "code",
   "execution_count": 7,
   "id": "dcde5177-cea0-4966-b67d-c75f96cf673b",
   "metadata": {},
   "outputs": [
    {
     "name": "stdout",
     "output_type": "stream",
     "text": [
      "torch.Size([256, 1, 28, 28]) torch.Size([256])\n",
      "Labels : 10\n"
     ]
    }
   ],
   "source": [
    "data_iter = iter(train_loader)\n",
    "inputs, labels = next(data_iter)\n",
    "print(inputs.shape, labels.shape)\n",
    "unique_labels = len(torch.unique(train_sets.targets))\n",
    "print(f'Labels : {unique_labels}')"
   ]
  },
  {
   "cell_type": "code",
   "execution_count": 8,
   "id": "546cca58-a180-4e1b-80cd-bedcbdc8dcdb",
   "metadata": {},
   "outputs": [],
   "source": [
    "from torch import nn\n",
    "# 파이토치의 신경망 모듈을 가져온다\n",
    "\n",
    "# nn.Module 을 상속받아 모델 클래스를 생성\n",
    "class LinearEntropyModel(nn.Module):\n",
    "    def __init__(self, input_dim, n_dim, class_count):\n",
    "        # input_dim : 입력데이터의 크기 (28 * 28 = 784)\n",
    "        # n_dim : 은닉층의 크기\n",
    "        # 분류 개수\n",
    "        \n",
    "        super().__init__()\n",
    "        self.layer1=nn.Linear(input_dim, n_dim)\n",
    "        self.layer2=nn.Linear(n_dim, n_dim)\n",
    "        self.layer3=nn.Linear(n_dim, class_count)\n",
    "\n",
    "        # 예제에서는 1이었던 값을 왜 크로스엔트로피를 쓰면서 다중 클래스를 입력하는가\n",
    "        # 크로스엔트로피는 \n",
    "        # 왜 3개의 레이어를 구성하는가\n",
    "        # 다중 퍼셉트론 기반의 회귀 모델\n",
    "        self.act=nn.ReLU()\n",
    "\n",
    "    def forward(self, x):\n",
    "        x=torch.flatten(x, start_dim=1)\n",
    "        x=self.act(self.layer1(x))\n",
    "        x=self.act(self.layer2(x))\n",
    "        x=self.act(self.layer3(x))\n",
    "        # Linear -> ReLU -> Linear -> ReLU -> Linear -> ReLU\n",
    "        return x\n",
    "\n",
    "model=LinearEntropyModel(28*28*1, 1024, unique_labels)"
   ]
  },
  {
   "cell_type": "code",
   "execution_count": 9,
   "id": "6eb1bb17-047c-4a12-a83a-bd731d6cd74e",
   "metadata": {},
   "outputs": [],
   "source": [
    "# 모델 구조 요약\n",
    "# Input:      [B, 1, 28, 28]         # 흑백 이미지 batch\n",
    "# Flatten:    [B, 784]               # 이미지 한 줄로 펼침\n",
    "# Layer1:     Linear(784 → 1024)     + ReLU\n",
    "# Layer2:     Linear(1024 → 1024)    + ReLU\n",
    "# Layer3:     Linear(1024 → 1)       + ReLU\n",
    "# Output:     [B, 1]                 # 회귀 또는 이진 분류 용도"
   ]
  },
  {
   "cell_type": "code",
   "execution_count": 10,
   "id": "84c227aa-6924-4944-bb72-ceeb2b97a479",
   "metadata": {},
   "outputs": [],
   "source": [
    "from torch.optim import SGD\n",
    "learning_rate = 0.001\n",
    "model=model.to('mps')"
   ]
  },
  {
   "cell_type": "code",
   "execution_count": 11,
   "id": "aaa5d2c3-171f-4b91-8831-b2b90db73480",
   "metadata": {},
   "outputs": [],
   "source": [
    "optimizer=SGD(model.parameters(), lr=learning_rate)"
   ]
  },
  {
   "cell_type": "code",
   "execution_count": 12,
   "id": "d2ad3f4d-5151-4169-82dd-616b08161430",
   "metadata": {},
   "outputs": [],
   "source": [
    "def accuracy(model, dataloader):\n",
    "  cnt = 0\n",
    "  acc = 0\n",
    "\n",
    "  for data in dataloader:\n",
    "    inputs, labels = data\n",
    "    inputs, labels = inputs.to('mps'), labels.to('mps')\n",
    "\n",
    "    preds = model(inputs)\n",
    "    preds = torch.argmax(preds, dim=-1)\n",
    "\n",
    "    cnt += labels.shape[0]\n",
    "    acc += (labels == preds).sum().item()\n",
    "\n",
    "  return acc / cnt"
   ]
  },
  {
   "cell_type": "code",
   "execution_count": 13,
   "id": "bfb0c5a0-e4bc-4d9f-bbb2-3a05fba551db",
   "metadata": {},
   "outputs": [],
   "source": [
    "import numpy as np\n",
    "from matplotlib import pyplot as plt\n",
    "def plot_acc(train_accs, test_accs, label1='train', label2='test'):\n",
    "  x = np.arange(len(train_accs))\n",
    "\n",
    "  plt.plot(x, train_accs, label=label1)\n",
    "  plt.plot(x, test_accs, label=label2)\n",
    "  plt.legend()\n",
    "  plt.show()"
   ]
  },
  {
   "cell_type": "code",
   "execution_count": 14,
   "id": "68bd8d03-57cc-4641-89f0-a14490154d4e",
   "metadata": {},
   "outputs": [
    {
     "name": "stdout",
     "output_type": "stream",
     "text": [
      "Epoch   0 | Loss: 540.1365885734558\n",
      "Epoch   1 | Loss: 537.6984062194824\n",
      "Epoch   2 | Loss: 534.8478269577026\n",
      "Epoch   3 | Loss: 531.979371547699\n",
      "Epoch   4 | Loss: 528.9512753486633\n",
      "Epoch   5 | Loss: 525.6671893596649\n",
      "Epoch   6 | Loss: 522.068213224411\n",
      "Epoch   7 | Loss: 518.0932748317719\n",
      "Epoch   8 | Loss: 513.6365218162537\n",
      "Epoch   9 | Loss: 508.6188883781433\n",
      "Epoch  10 | Loss: 503.00709986686707\n",
      "Epoch  11 | Loss: 496.3230173587799\n",
      "Epoch  12 | Loss: 488.4365770816803\n",
      "Epoch  13 | Loss: 479.7528041601181\n",
      "Epoch  14 | Loss: 470.2463927268982\n",
      "Epoch  15 | Loss: 459.7963960170746\n",
      "Epoch  16 | Loss: 448.3988667726517\n",
      "Epoch  17 | Loss: 436.3078659772873\n",
      "Epoch  18 | Loss: 423.5391778945923\n",
      "Epoch  19 | Loss: 410.2961097955704\n",
      "Epoch  20 | Loss: 396.8932749032974\n",
      "Epoch  21 | Loss: 383.61385893821716\n",
      "Epoch  22 | Loss: 370.568355679512\n",
      "Epoch  23 | Loss: 358.03013134002686\n",
      "Epoch  24 | Loss: 346.22006690502167\n",
      "Epoch  25 | Loss: 335.2299087047577\n",
      "Epoch  26 | Loss: 325.09417259693146\n",
      "Epoch  27 | Loss: 315.732071518898\n",
      "Epoch  28 | Loss: 307.09965109825134\n",
      "Epoch  29 | Loss: 299.2972650527954\n",
      "Epoch  30 | Loss: 292.11593782901764\n",
      "Epoch  31 | Loss: 285.3692697286606\n",
      "Epoch  32 | Loss: 279.4377464056015\n",
      "Epoch  33 | Loss: 273.7531786561012\n",
      "Epoch  34 | Loss: 268.3952321410179\n",
      "Epoch  35 | Loss: 263.6104543209076\n",
      "Epoch  36 | Loss: 259.0274735093117\n",
      "Epoch  37 | Loss: 254.88748747110367\n",
      "Epoch  38 | Loss: 250.9660941362381\n",
      "Epoch  39 | Loss: 247.2235853075981\n",
      "Epoch  40 | Loss: 243.75660848617554\n",
      "Epoch  41 | Loss: 240.59489959478378\n",
      "Epoch  42 | Loss: 237.55373412370682\n",
      "Epoch  43 | Loss: 234.627739071846\n",
      "Epoch  44 | Loss: 231.93157142400742\n",
      "Epoch  45 | Loss: 229.376850605011\n",
      "Epoch  46 | Loss: 227.01401329040527\n",
      "Epoch  47 | Loss: 224.7479595541954\n",
      "Epoch  48 | Loss: 222.4950059056282\n",
      "Epoch  49 | Loss: 220.29462778568268\n",
      "Epoch  50 | Loss: 218.44909727573395\n",
      "Epoch  51 | Loss: 216.64573657512665\n",
      "Epoch  52 | Loss: 214.85966229438782\n",
      "Epoch  53 | Loss: 213.12499004602432\n",
      "Epoch  54 | Loss: 211.62408286333084\n",
      "Epoch  55 | Loss: 209.98947268724442\n",
      "Epoch  56 | Loss: 208.52017080783844\n",
      "Epoch  57 | Loss: 207.18734514713287\n",
      "Epoch  58 | Loss: 205.88685381412506\n",
      "Epoch  59 | Loss: 204.36207109689713\n",
      "Epoch  60 | Loss: 203.43399226665497\n",
      "Epoch  61 | Loss: 202.09422248601913\n",
      "Epoch  62 | Loss: 200.9438937306404\n",
      "Epoch  63 | Loss: 200.0028533935547\n",
      "Epoch  64 | Loss: 198.89726561307907\n",
      "Epoch  65 | Loss: 197.91570258140564\n",
      "Epoch  66 | Loss: 196.9090033173561\n",
      "Epoch  67 | Loss: 196.118978202343\n",
      "Epoch  68 | Loss: 195.15592634677887\n",
      "Epoch  69 | Loss: 194.40681248903275\n",
      "Epoch  70 | Loss: 193.5203987956047\n",
      "Epoch  71 | Loss: 192.73901069164276\n",
      "Epoch  72 | Loss: 192.03620249032974\n",
      "Epoch  73 | Loss: 191.32895809412003\n",
      "Epoch  74 | Loss: 190.64867800474167\n",
      "Epoch  75 | Loss: 189.95096135139465\n",
      "Epoch  76 | Loss: 189.2987226843834\n",
      "Epoch  77 | Loss: 188.5204218029976\n",
      "Epoch  78 | Loss: 188.05200719833374\n",
      "Epoch  79 | Loss: 187.48390859365463\n",
      "Epoch  80 | Loss: 186.95159739255905\n",
      "Epoch  81 | Loss: 186.34592324495316\n",
      "Epoch  82 | Loss: 185.78535717725754\n",
      "Epoch  83 | Loss: 185.49190801382065\n",
      "Epoch  84 | Loss: 184.88718104362488\n",
      "Epoch  85 | Loss: 184.50337409973145\n",
      "Epoch  86 | Loss: 183.88274538516998\n",
      "Epoch  87 | Loss: 183.5294884443283\n",
      "Epoch  88 | Loss: 183.09288001060486\n",
      "Epoch  89 | Loss: 182.6252357363701\n",
      "Epoch  90 | Loss: 182.18708831071854\n",
      "Epoch  91 | Loss: 181.82193446159363\n",
      "Epoch  92 | Loss: 181.27483078837395\n",
      "Epoch  93 | Loss: 181.02535265684128\n",
      "Epoch  94 | Loss: 180.6281422972679\n",
      "Epoch  95 | Loss: 180.48976975679398\n",
      "Epoch  96 | Loss: 180.01741909980774\n",
      "Epoch  97 | Loss: 179.74265336990356\n",
      "Epoch  98 | Loss: 179.29681307077408\n",
      "Epoch  99 | Loss: 178.97078269720078\n"
     ]
    }
   ],
   "source": [
    "n_epochs=100\n",
    "acc_train = []\n",
    "acc_test = []\n",
    "\n",
    "for epoch in range(n_epochs):\n",
    "    total_loss = 0\n",
    "    for data in train_loader:\n",
    "        model.zero_grad()\n",
    "        inputs, labels = data\n",
    "        inputs, labels = inputs.to('mps'), labels.to('mps')\n",
    "        preds = model(inputs)\n",
    "        loss_fn = nn.CrossEntropyLoss()\n",
    "        loss = loss_fn(preds, labels)\n",
    "        loss.backward()\n",
    "        optimizer.step()\n",
    "\n",
    "        total_loss += loss.item()\n",
    "\n",
    "    epoch_acc_train = accuracy(model, train_loader)\n",
    "    epoch_acc_test = accuracy(model, test_loader)\n",
    "    acc_train.append(epoch_acc_train)\n",
    "    acc_test.append(epoch_acc_test)\n",
    "    print(f\"Epoch {epoch:3d} | Loss: {total_loss}\")"
   ]
  },
  {
   "cell_type": "code",
   "execution_count": 100,
   "id": "1658eb5e-efcc-4120-9490-a4fd62acb7c3",
   "metadata": {},
   "outputs": [
    {
     "data": {
      "image/png": "[encoded data removed]",
      "text/plain": [
       "<Figure size 640x480 with 1 Axes>"
      ]
     },
     "metadata": {},
     "output_type": "display_data"
    }
   ],
   "source": [
    "plot_acc(acc_train, acc_test)"
   ]
  },
  {
   "cell_type": "markdown",
   "id": "0ba10852-13e3-4fb7-b1c8-aff120e4f5a9",
   "metadata": {},
   "source": [
    "학습용 데이터(Train set)와 평가용 데이터(Test set)의 에포크별 정확도 변화 추이가 거의 동일하게 나타난다는 것은, 모델이 학습 과정에서 과적합(overfitting)을 크게 일으키지 않고 학습용 데이터와 평가용 데이터 모두에 대해 유사한 성능을 낸다는 의미입니다. 즉, 모델이 일반화(generalization)를 잘하고 있음을 시사합니다."
   ]
  },
  {
   "cell_type": "markdown",
   "id": "e9a17136-d245-4f72-bf13-6cdd765b227c",
   "metadata": {},
   "source": [
    "심화과제 START"
   ]
  },
  {
   "cell_type": "code",
   "execution_count": 8,
   "id": "6f618244-b344-425f-98a3-1588573a8bd8",
   "metadata": {},
   "outputs": [
    {
     "name": "stdout",
     "output_type": "stream",
     "text": [
      "Downloading https://www.cs.toronto.edu/~kriz/cifar-10-python.tar.gz to ./CIFAR10_DATA/cifar-10-python.tar.gz\n"
     ]
    },
    {
     "name": "stderr",
     "output_type": "stream",
     "text": [
      "100%|████████████████████████████████████████| 170M/170M [00:13<00:00, 12.8MB/s]\n"
     ]
    },
    {
     "name": "stdout",
     "output_type": "stream",
     "text": [
      "Extracting ./CIFAR10_DATA/cifar-10-python.tar.gz to ./CIFAR10_DATA\n",
      "Downloading https://www.cs.toronto.edu/~kriz/cifar-10-python.tar.gz to ./CIFAR10_DATA/Test/cifar-10-python.tar.gz\n"
     ]
    },
    {
     "name": "stderr",
     "output_type": "stream",
     "text": [
      "100%|████████████████████████████████████████| 170M/170M [00:13<00:00, 12.7MB/s]\n"
     ]
    },
    {
     "name": "stdout",
     "output_type": "stream",
     "text": [
      "Extracting ./CIFAR10_DATA/Test/cifar-10-python.tar.gz to ./CIFAR10_DATA/Test\n"
     ]
    }
   ],
   "source": [
    "train_set = torchvision.datasets.CIFAR10(\n",
    "    root='./CIFAR10_DATA',\n",
    "    train=True,\n",
    "    transform=transform,\n",
    "    download=True\n",
    ")\n",
    "test_set = torchvision.datasets.CIFAR10(\n",
    "    root='./CIFAR10_DATA/Test',\n",
    "    train=False,\n",
    "    transform=transform,\n",
    "    download=True\n",
    ")"
   ]
  },
  {
   "cell_type": "code",
   "execution_count": 10,
   "id": "36540a3e-671c-47ed-84c0-c7abebb4c08e",
   "metadata": {},
   "outputs": [],
   "source": [
    "n_epochs=50\n",
    "batch_size=256"
   ]
  },
  {
   "cell_type": "code",
   "execution_count": 16,
   "id": "2189c15f-8f2a-48ae-9424-a740fb3a7d2e",
   "metadata": {},
   "outputs": [],
   "source": [
    "train_loader = torch.utils.data.DataLoader(\n",
    "    dataset=train_set,\n",
    "    batch_size=batch_size,\n",
    "    shuffle=True,\n",
    "    num_workers=4\n",
    ")\n",
    "\n",
    "test_loader = torch.utils.data.DataLoader(\n",
    "    dataset=test_set,\n",
    "    batch_size=batch_size,\n",
    "    shuffle=False,\n",
    "    num_workers=4\n",
    ")"
   ]
  },
  {
   "cell_type": "code",
   "execution_count": 26,
   "id": "71d6cdfc-849c-4929-98c3-09b6ad62516a",
   "metadata": {},
   "outputs": [
    {
     "name": "stdout",
     "output_type": "stream",
     "text": [
      "torch.Size([256, 3, 32, 32]) torch.Size([256])\n",
      "['airplane', 'automobile', 'bird', 'cat', 'deer', 'dog', 'frog', 'horse', 'ship', 'truck']\n"
     ]
    }
   ],
   "source": [
    "data_iter = iter(train_loader)\n",
    "inputs, labels = next(data_iter)\n",
    "print(inputs.shape, labels.shape)\n",
    "print(train_set.classes)\n",
    "class_count = len(train_set.classes)"
   ]
  },
  {
   "cell_type": "code",
   "execution_count": 28,
   "id": "3756e91e-14b6-414c-9b7d-1edb38b2da91",
   "metadata": {},
   "outputs": [],
   "source": [
    "from torch import nn"
   ]
  },
  {
   "cell_type": "code",
   "execution_count": 40,
   "id": "7d11ec93-c162-4e79-abc0-1fb8a480aeb1",
   "metadata": {},
   "outputs": [],
   "source": [
    "class DepthModel(nn.Module):\n",
    "    def __init__(self, input_dim, n_dim, class_count):\n",
    "        super().__init__()\n",
    "        self.layer1=nn.Linear(input_dim, n_dim)\n",
    "        self.layer2=nn.Linear(n_dim, n_dim)\n",
    "        self.layer3=nn.Linear(n_dim, class_count)\n",
    "        self.act=nn.LeakyReLU()\n",
    "\n",
    "    def forward(self, x):\n",
    "        x=torch.flatten(x, start_dim=1)\n",
    "        x=self.act(self.layer1(x))\n",
    "        x=self.act(self.layer2(x))\n",
    "        x=self.act(self.layer3(x))\n",
    "        return x\n",
    "\n",
    "model=DepthModel(32*32*3, 1024, class_count)"
   ]
  },
  {
   "cell_type": "markdown",
   "id": "95959db6-9d52-4290-8fca-019cb2d1c527",
   "metadata": {},
   "source": [
    "언제 레이어를 추가해야하는가?\n",
    "- 성능이 언더피팅 (그래프의 오차가 점점 커지는 경우)"
   ]
  },
  {
   "cell_type": "code",
   "execution_count": 48,
   "id": "9fbb85c1-b760-4df2-aee4-dcaaea72c7fc",
   "metadata": {},
   "outputs": [],
   "source": [
    "from torch.optim import Adam\n",
    "adam_learning_rate = 0.001\n",
    "model=model.to('mps')\n",
    "adam_optimizer=Adam(model.parameters(), lr=adam_learning_rate)"
   ]
  },
  {
   "cell_type": "code",
   "execution_count": 50,
   "id": "4b981726-a296-4eb4-9b85-a08cee873292",
   "metadata": {},
   "outputs": [
    {
     "name": "stdout",
     "output_type": "stream",
     "text": [
      "Epoch   0 | Loss: 432.90563464164734\n",
      "Epoch   1 | Loss: 393.48229026794434\n",
      "Epoch   2 | Loss: 369.8963255882263\n",
      "Epoch   3 | Loss: 354.46183454990387\n",
      "Epoch   4 | Loss: 341.19263327121735\n",
      "Epoch   5 | Loss: 331.87803840637207\n",
      "Epoch   6 | Loss: 323.6163351535797\n",
      "Epoch   7 | Loss: 316.79266238212585\n",
      "Epoch   8 | Loss: 309.77825140953064\n",
      "Epoch   9 | Loss: 301.7553449869156\n",
      "Epoch  10 | Loss: 298.7152910232544\n",
      "Epoch  11 | Loss: 294.1121093034744\n",
      "Epoch  12 | Loss: 287.48530209064484\n",
      "Epoch  13 | Loss: 282.3313058614731\n",
      "Epoch  14 | Loss: 278.6083867549896\n",
      "Epoch  15 | Loss: 275.3081661462784\n",
      "Epoch  16 | Loss: 274.13456881046295\n",
      "Epoch  17 | Loss: 270.2379837036133\n",
      "Epoch  18 | Loss: 264.7293645143509\n",
      "Epoch  19 | Loss: 261.8101465702057\n",
      "Epoch  20 | Loss: 259.700749874115\n",
      "Epoch  21 | Loss: 255.5368583202362\n",
      "Epoch  22 | Loss: 251.77595496177673\n",
      "Epoch  23 | Loss: 247.7501279115677\n",
      "Epoch  24 | Loss: 247.39990532398224\n",
      "Epoch  25 | Loss: 242.43622708320618\n",
      "Epoch  26 | Loss: 243.29364132881165\n",
      "Epoch  27 | Loss: 235.35190093517303\n",
      "Epoch  28 | Loss: 231.88785403966904\n",
      "Epoch  29 | Loss: 232.4132580757141\n",
      "Epoch  30 | Loss: 227.12493354082108\n",
      "Epoch  31 | Loss: 224.437162399292\n",
      "Epoch  32 | Loss: 221.68585795164108\n",
      "Epoch  33 | Loss: 217.8573044538498\n",
      "Epoch  34 | Loss: 214.33538615703583\n",
      "Epoch  35 | Loss: 212.78866893053055\n",
      "Epoch  36 | Loss: 209.3315343260765\n",
      "Epoch  37 | Loss: 204.25590765476227\n",
      "Epoch  38 | Loss: 206.6699566245079\n",
      "Epoch  39 | Loss: 202.80022072792053\n",
      "Epoch  40 | Loss: 197.9586364030838\n",
      "Epoch  41 | Loss: 195.33267211914062\n",
      "Epoch  42 | Loss: 190.0215066075325\n",
      "Epoch  43 | Loss: 187.06722730398178\n",
      "Epoch  44 | Loss: 184.2201510667801\n",
      "Epoch  45 | Loss: 183.0522826910019\n",
      "Epoch  46 | Loss: 177.77226680517197\n",
      "Epoch  47 | Loss: 179.7577005624771\n",
      "Epoch  48 | Loss: 175.2767550945282\n",
      "Epoch  49 | Loss: 168.70401644706726\n"
     ]
    }
   ],
   "source": [
    "n_epochs=50\n",
    "acc_train_cifar = []\n",
    "acc_test_cifar = []\n",
    "\n",
    "for epoch in range(n_epochs):\n",
    "    total_loss = 0\n",
    "    for data in train_loader:\n",
    "        model.zero_grad()\n",
    "        inputs, labels = data\n",
    "        inputs, labels = inputs.to('mps'), labels.to('mps')\n",
    "        preds = model(inputs)\n",
    "        loss_fn = nn.CrossEntropyLoss()\n",
    "        loss = loss_fn(preds, labels)\n",
    "        loss.backward()\n",
    "        adam_optimizer.step()\n",
    "\n",
    "        total_loss += loss.item()\n",
    "\n",
    "    epoch_acc_train = accuracy(model, train_loader)\n",
    "    epoch_acc_test = accuracy(model, test_loader)\n",
    "    acc_train_cifar.append(epoch_acc_train)\n",
    "    acc_test_cifar.append(epoch_acc_test)\n",
    "    print(f\"Epoch {epoch:3d} | Loss: {total_loss}\")"
   ]
  },
  {
   "cell_type": "code",
   "execution_count": 57,
   "id": "5b330997-8017-4284-8275-d1f6aa6baf41",
   "metadata": {},
   "outputs": [
    {
     "name": "stdout",
     "output_type": "stream",
     "text": [
      "Epoch   0 | Loss: 161.43144017457962\n"
     ]
    },
    {
     "ename": "KeyboardInterrupt",
     "evalue": "",
     "output_type": "error",
     "traceback": [
      "\u001b[0;31m---------------------------------------------------------------------------\u001b[0m",
      "\u001b[0;31mKeyboardInterrupt\u001b[0m                         Traceback (most recent call last)",
      "Cell \u001b[0;32mIn[57], line 7\u001b[0m\n\u001b[1;32m      5\u001b[0m \u001b[38;5;28;01mfor\u001b[39;00m epoch \u001b[38;5;129;01min\u001b[39;00m \u001b[38;5;28mrange\u001b[39m(n_epochs):\n\u001b[1;32m      6\u001b[0m     total_loss \u001b[38;5;241m=\u001b[39m \u001b[38;5;241m0\u001b[39m\n\u001b[0;32m----> 7\u001b[0m     \u001b[38;5;28;01mfor\u001b[39;00m data \u001b[38;5;129;01min\u001b[39;00m train_loader:\n\u001b[1;32m      8\u001b[0m         model\u001b[38;5;241m.\u001b[39mzero_grad()\n\u001b[1;32m      9\u001b[0m         inputs, labels \u001b[38;5;241m=\u001b[39m data\n",
      "File \u001b[0;32m/opt/anaconda3/envs/ai_develop_env/lib/python3.12/site-packages/torch/utils/data/dataloader.py:701\u001b[0m, in \u001b[0;36m_BaseDataLoaderIter.__next__\u001b[0;34m(self)\u001b[0m\n\u001b[1;32m    698\u001b[0m \u001b[38;5;28;01mif\u001b[39;00m \u001b[38;5;28mself\u001b[39m\u001b[38;5;241m.\u001b[39m_sampler_iter \u001b[38;5;129;01mis\u001b[39;00m \u001b[38;5;28;01mNone\u001b[39;00m:\n\u001b[1;32m    699\u001b[0m     \u001b[38;5;66;03m# TODO(https://github.com/pytorch/pytorch/issues/76750)\u001b[39;00m\n\u001b[1;32m    700\u001b[0m     \u001b[38;5;28mself\u001b[39m\u001b[38;5;241m.\u001b[39m_reset()  \u001b[38;5;66;03m# type: ignore[call-arg]\u001b[39;00m\n\u001b[0;32m--> 701\u001b[0m data \u001b[38;5;241m=\u001b[39m \u001b[38;5;28mself\u001b[39m\u001b[38;5;241m.\u001b[39m_next_data()\n\u001b[1;32m    702\u001b[0m \u001b[38;5;28mself\u001b[39m\u001b[38;5;241m.\u001b[39m_num_yielded \u001b[38;5;241m+\u001b[39m\u001b[38;5;241m=\u001b[39m \u001b[38;5;241m1\u001b[39m\n\u001b[1;32m    703\u001b[0m \u001b[38;5;28;01mif\u001b[39;00m (\n\u001b[1;32m    704\u001b[0m     \u001b[38;5;28mself\u001b[39m\u001b[38;5;241m.\u001b[39m_dataset_kind \u001b[38;5;241m==\u001b[39m _DatasetKind\u001b[38;5;241m.\u001b[39mIterable\n\u001b[1;32m    705\u001b[0m     \u001b[38;5;129;01mand\u001b[39;00m \u001b[38;5;28mself\u001b[39m\u001b[38;5;241m.\u001b[39m_IterableDataset_len_called \u001b[38;5;129;01mis\u001b[39;00m \u001b[38;5;129;01mnot\u001b[39;00m \u001b[38;5;28;01mNone\u001b[39;00m\n\u001b[1;32m    706\u001b[0m     \u001b[38;5;129;01mand\u001b[39;00m \u001b[38;5;28mself\u001b[39m\u001b[38;5;241m.\u001b[39m_num_yielded \u001b[38;5;241m>\u001b[39m \u001b[38;5;28mself\u001b[39m\u001b[38;5;241m.\u001b[39m_IterableDataset_len_called\n\u001b[1;32m    707\u001b[0m ):\n",
      "File \u001b[0;32m/opt/anaconda3/envs/ai_develop_env/lib/python3.12/site-packages/torch/utils/data/dataloader.py:1437\u001b[0m, in \u001b[0;36m_MultiProcessingDataLoaderIter._next_data\u001b[0;34m(self)\u001b[0m\n\u001b[1;32m   1434\u001b[0m \u001b[38;5;28;01melse\u001b[39;00m:\n\u001b[1;32m   1435\u001b[0m     \u001b[38;5;66;03m# no valid `self._rcvd_idx` is found (i.e., didn't break)\u001b[39;00m\n\u001b[1;32m   1436\u001b[0m     \u001b[38;5;28;01mif\u001b[39;00m \u001b[38;5;129;01mnot\u001b[39;00m \u001b[38;5;28mself\u001b[39m\u001b[38;5;241m.\u001b[39m_persistent_workers:\n\u001b[0;32m-> 1437\u001b[0m         \u001b[38;5;28mself\u001b[39m\u001b[38;5;241m.\u001b[39m_shutdown_workers()\n\u001b[1;32m   1438\u001b[0m     \u001b[38;5;28;01mraise\u001b[39;00m \u001b[38;5;167;01mStopIteration\u001b[39;00m\n\u001b[1;32m   1440\u001b[0m \u001b[38;5;66;03m# Now `self._rcvd_idx` is the batch index we want to fetch\u001b[39;00m\n\u001b[1;32m   1441\u001b[0m \n\u001b[1;32m   1442\u001b[0m \u001b[38;5;66;03m# Check if the next sample has already been generated\u001b[39;00m\n",
      "File \u001b[0;32m/opt/anaconda3/envs/ai_develop_env/lib/python3.12/site-packages/torch/utils/data/dataloader.py:1568\u001b[0m, in \u001b[0;36m_MultiProcessingDataLoaderIter._shutdown_workers\u001b[0;34m(self)\u001b[0m\n\u001b[1;32m   1563\u001b[0m         \u001b[38;5;28mself\u001b[39m\u001b[38;5;241m.\u001b[39m_mark_worker_as_unavailable(worker_id, shutdown\u001b[38;5;241m=\u001b[39m\u001b[38;5;28;01mTrue\u001b[39;00m)\n\u001b[1;32m   1564\u001b[0m \u001b[38;5;28;01mfor\u001b[39;00m w \u001b[38;5;129;01min\u001b[39;00m \u001b[38;5;28mself\u001b[39m\u001b[38;5;241m.\u001b[39m_workers:\n\u001b[1;32m   1565\u001b[0m     \u001b[38;5;66;03m# We should be able to join here, but in case anything went\u001b[39;00m\n\u001b[1;32m   1566\u001b[0m     \u001b[38;5;66;03m# wrong, we set a timeout and if the workers fail to join,\u001b[39;00m\n\u001b[1;32m   1567\u001b[0m     \u001b[38;5;66;03m# they are killed in the `finally` block.\u001b[39;00m\n\u001b[0;32m-> 1568\u001b[0m     w\u001b[38;5;241m.\u001b[39mjoin(timeout\u001b[38;5;241m=\u001b[39m_utils\u001b[38;5;241m.\u001b[39mMP_STATUS_CHECK_INTERVAL)\n\u001b[1;32m   1569\u001b[0m \u001b[38;5;28;01mfor\u001b[39;00m q \u001b[38;5;129;01min\u001b[39;00m \u001b[38;5;28mself\u001b[39m\u001b[38;5;241m.\u001b[39m_index_queues:\n\u001b[1;32m   1570\u001b[0m     q\u001b[38;5;241m.\u001b[39mcancel_join_thread()\n",
      "File \u001b[0;32m/opt/anaconda3/envs/ai_develop_env/lib/python3.12/multiprocessing/process.py:149\u001b[0m, in \u001b[0;36mBaseProcess.join\u001b[0;34m(self, timeout)\u001b[0m\n\u001b[1;32m    147\u001b[0m \u001b[38;5;28;01massert\u001b[39;00m \u001b[38;5;28mself\u001b[39m\u001b[38;5;241m.\u001b[39m_parent_pid \u001b[38;5;241m==\u001b[39m os\u001b[38;5;241m.\u001b[39mgetpid(), \u001b[38;5;124m'\u001b[39m\u001b[38;5;124mcan only join a child process\u001b[39m\u001b[38;5;124m'\u001b[39m\n\u001b[1;32m    148\u001b[0m \u001b[38;5;28;01massert\u001b[39;00m \u001b[38;5;28mself\u001b[39m\u001b[38;5;241m.\u001b[39m_popen \u001b[38;5;129;01mis\u001b[39;00m \u001b[38;5;129;01mnot\u001b[39;00m \u001b[38;5;28;01mNone\u001b[39;00m, \u001b[38;5;124m'\u001b[39m\u001b[38;5;124mcan only join a started process\u001b[39m\u001b[38;5;124m'\u001b[39m\n\u001b[0;32m--> 149\u001b[0m res \u001b[38;5;241m=\u001b[39m \u001b[38;5;28mself\u001b[39m\u001b[38;5;241m.\u001b[39m_popen\u001b[38;5;241m.\u001b[39mwait(timeout)\n\u001b[1;32m    150\u001b[0m \u001b[38;5;28;01mif\u001b[39;00m res \u001b[38;5;129;01mis\u001b[39;00m \u001b[38;5;129;01mnot\u001b[39;00m \u001b[38;5;28;01mNone\u001b[39;00m:\n\u001b[1;32m    151\u001b[0m     _children\u001b[38;5;241m.\u001b[39mdiscard(\u001b[38;5;28mself\u001b[39m)\n",
      "File \u001b[0;32m/opt/anaconda3/envs/ai_develop_env/lib/python3.12/multiprocessing/popen_fork.py:40\u001b[0m, in \u001b[0;36mPopen.wait\u001b[0;34m(self, timeout)\u001b[0m\n\u001b[1;32m     38\u001b[0m \u001b[38;5;28;01mif\u001b[39;00m timeout \u001b[38;5;129;01mis\u001b[39;00m \u001b[38;5;129;01mnot\u001b[39;00m \u001b[38;5;28;01mNone\u001b[39;00m:\n\u001b[1;32m     39\u001b[0m     \u001b[38;5;28;01mfrom\u001b[39;00m \u001b[38;5;21;01mmultiprocessing\u001b[39;00m\u001b[38;5;21;01m.\u001b[39;00m\u001b[38;5;21;01mconnection\u001b[39;00m \u001b[38;5;28;01mimport\u001b[39;00m wait\n\u001b[0;32m---> 40\u001b[0m     \u001b[38;5;28;01mif\u001b[39;00m \u001b[38;5;129;01mnot\u001b[39;00m wait([\u001b[38;5;28mself\u001b[39m\u001b[38;5;241m.\u001b[39msentinel], timeout):\n\u001b[1;32m     41\u001b[0m         \u001b[38;5;28;01mreturn\u001b[39;00m \u001b[38;5;28;01mNone\u001b[39;00m\n\u001b[1;32m     42\u001b[0m \u001b[38;5;66;03m# This shouldn't block if wait() returned successfully.\u001b[39;00m\n",
      "File \u001b[0;32m/opt/anaconda3/envs/ai_develop_env/lib/python3.12/multiprocessing/connection.py:1135\u001b[0m, in \u001b[0;36mwait\u001b[0;34m(object_list, timeout)\u001b[0m\n\u001b[1;32m   1132\u001b[0m     deadline \u001b[38;5;241m=\u001b[39m time\u001b[38;5;241m.\u001b[39mmonotonic() \u001b[38;5;241m+\u001b[39m timeout\n\u001b[1;32m   1134\u001b[0m \u001b[38;5;28;01mwhile\u001b[39;00m \u001b[38;5;28;01mTrue\u001b[39;00m:\n\u001b[0;32m-> 1135\u001b[0m     ready \u001b[38;5;241m=\u001b[39m selector\u001b[38;5;241m.\u001b[39mselect(timeout)\n\u001b[1;32m   1136\u001b[0m     \u001b[38;5;28;01mif\u001b[39;00m ready:\n\u001b[1;32m   1137\u001b[0m         \u001b[38;5;28;01mreturn\u001b[39;00m [key\u001b[38;5;241m.\u001b[39mfileobj \u001b[38;5;28;01mfor\u001b[39;00m (key, events) \u001b[38;5;129;01min\u001b[39;00m ready]\n",
      "File \u001b[0;32m/opt/anaconda3/envs/ai_develop_env/lib/python3.12/selectors.py:415\u001b[0m, in \u001b[0;36m_PollLikeSelector.select\u001b[0;34m(self, timeout)\u001b[0m\n\u001b[1;32m    413\u001b[0m ready \u001b[38;5;241m=\u001b[39m []\n\u001b[1;32m    414\u001b[0m \u001b[38;5;28;01mtry\u001b[39;00m:\n\u001b[0;32m--> 415\u001b[0m     fd_event_list \u001b[38;5;241m=\u001b[39m \u001b[38;5;28mself\u001b[39m\u001b[38;5;241m.\u001b[39m_selector\u001b[38;5;241m.\u001b[39mpoll(timeout)\n\u001b[1;32m    416\u001b[0m \u001b[38;5;28;01mexcept\u001b[39;00m \u001b[38;5;167;01mInterruptedError\u001b[39;00m:\n\u001b[1;32m    417\u001b[0m     \u001b[38;5;28;01mreturn\u001b[39;00m ready\n",
      "\u001b[0;31mKeyboardInterrupt\u001b[0m: "
     ]
    }
   ],
   "source": [
    "n_epochs=50\n",
    "acc_train_cifar_sgd = []\n",
    "acc_test_cifar_sgd = []\n",
    "\n",
    "for epoch in range(n_epochs):\n",
    "    total_loss = 0\n",
    "    for data in train_loader:\n",
    "        model.zero_grad()\n",
    "        inputs, labels = data\n",
    "        inputs, labels = inputs.to('mps'), labels.to('mps')\n",
    "        preds = model(inputs)\n",
    "        loss_fn = nn.CrossEntropyLoss()\n",
    "        loss = loss_fn(preds, labels)\n",
    "        loss.backward()\n",
    "        optimizer.step()\n",
    "\n",
    "        total_loss += loss.item()\n",
    "\n",
    "    epoch_acc_train = accuracy(model, train_loader)\n",
    "    epoch_acc_test = accuracy(model, test_loader)\n",
    "    acc_train_cifar_sgd.append(epoch_acc_train)\n",
    "    acc_test_cifar_sgd.append(epoch_acc_test)\n",
    "    print(f\"Epoch {epoch:3d} | Loss: {total_loss}\")"
   ]
  },
  {
   "cell_type": "code",
   "execution_count": null,
   "id": "295656b7-7f37-4447-adf6-78a3681dbbef",
   "metadata": {},
   "outputs": [],
   "source": []
  }
 ],
 "metadata": {
  "kernelspec": {
   "display_name": "Python 3 (ipykernel)",
   "language": "python",
   "name": "python3"
  },
  "language_info": {
   "codemirror_mode": {
    "name": "ipython",
    "version": 3
   },
   "file_extension": ".py",
   "mimetype": "text/x-python",
   "name": "python",
   "nbconvert_exporter": "python",
   "pygments_lexer": "ipython3",
   "version": "3.12.2"
  }
 },
 "nbformat": 4,
 "nbformat_minor": 5
}
